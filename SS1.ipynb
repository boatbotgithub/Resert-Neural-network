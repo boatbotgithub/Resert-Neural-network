{
 "cells": [
  {
   "cell_type": "code",
   "execution_count": 120,
   "metadata": {},
   "outputs": [],
   "source": [
    "import numpy as np\n",
    "import matplotlib.pyplot as plt"
   ]
  },
  {
   "cell_type": "markdown",
   "metadata": {},
   "source": [
    "# สร้าง data "
   ]
  },
  {
   "cell_type": "code",
   "execution_count": 121,
   "metadata": {},
   "outputs": [],
   "source": [
    "#Generate Date to train\n",
    "observation = 1000 #ตัวเเปรนี้จะบอกขนาดของข้อมูล\n",
    "#np.random.uniform(low, high, size)\n",
    "\n",
    "xs = np.random.uniform(low = -10, high = 10, size = (observation, 1))\n",
    "#xs 1000x1\n",
    "zs = np.random.uniform(low = -10, high = 10, size = (observation, 1))\n",
    "#zs 1000x1\n",
    "inputs = np.column_stack((xs, zs))# ตัวเเปรนี้รวม xs, zs เข้าด้วยกัน\n",
    "\n",
    "# ค่า input k = 2\n",
    "# จำนวนobservation n = 1000"
   ]
  },
  {
   "cell_type": "markdown",
   "metadata": {},
   "source": [
    "# สร้างคำตอบ"
   ]
  },
  {
   "cell_type": "code",
   "execution_count": 122,
   "metadata": {},
   "outputs": [],
   "source": [
    "#Create date target \n",
    "#targets = f(x,z) = 2*x - 3*z +5  + noise\n",
    "#2* คือ w1, 3* คือ w2, 5 คือ bias\n",
    "noise = np.random.uniform(-1, 1, (observation,1 ))\n",
    "\n",
    "targets = 2*xs - 3*zs + 5 + noise\n",
    "# ค่าoutput m = 1"
   ]
  },
  {
   "cell_type": "markdown",
   "metadata": {},
   "source": [
    "# กำหนดค่าเริ่มต้นต่างๆ\n",
    " * ข้อดีของการเขียนเองจะช่วยให้เรานั้นสามารถกำหนดอะไรต่างๆได้เยอะ"
   ]
  },
  {
   "cell_type": "code",
   "execution_count": 123,
   "metadata": {},
   "outputs": [],
   "source": [
    "init_range = 0.1\n",
    "learning_rate = 0.00001\n",
    "n = 1000\n",
    "k = 2\n",
    "m = 1\n",
    "weights = np.random.uniform(low = -init_range, high = init_range, size=(k, m))\n",
    "biases = np.random.uniform(low = -init_range, high = init_range, size = (1, m))"
   ]
  },
  {
   "cell_type": "markdown",
   "metadata": {},
   "source": [
    "# Optimizer  Gradient descent"
   ]
  },
  {
   "cell_type": "code",
   "execution_count": 124,
   "metadata": {},
   "outputs": [],
   "source": [
    "#input = 1000 x 2\n",
    "his_gd = list()\n",
    "err_gd = list()\n",
    "max_epoch = 10000\n",
    "epoc = 0\n",
    "while epoc < max_epoch:\n",
    "    \n",
    "    outputs = np.dot(inputs , weights) + biases\n",
    "    deltas = outputs - targets#หา Error\n",
    "    #1000 x 1\n",
    "    #n x m\n",
    "\n",
    "    loss = np.sum(deltas **2) /2 /observation #MSE\n",
    "    #print(loss)\n",
    "        \n",
    "    deltas_scaled = deltas / observation\n",
    "    #1000 x 1         \n",
    "    \n",
    "    weights = weights - learning_rate * np.dot(inputs.T, deltas_scaled)#update weights\n",
    "    biases = biases - learning_rate * np.sum(deltas_scaled)#update biases\n",
    "    his_gd.append(epoc)\n",
    "    err_gd.append(loss)\n",
    "    \n",
    "    epoc +=1"
   ]
  },
  {
   "cell_type": "markdown",
   "metadata": {},
   "source": [
    "# 2*xs - 3*zs + 5 + noise\n",
    "# คำตอบที่ต้องการ 2, -3, 5"
   ]
  },
  {
   "cell_type": "code",
   "execution_count": 125,
   "metadata": {},
   "outputs": [
    {
     "name": "stdout",
     "output_type": "stream",
     "text": [
      "[[ 0.55939163]\n",
      " [-0.91066655]] \n",
      " [[0.08126685]]\n",
      "min loss 116.62943668442962\n"
     ]
    }
   ],
   "source": [
    "print(weights,'\\n', biases)\n",
    "print(\"min loss\", min(err_gd))"
   ]
  },
  {
   "cell_type": "code",
   "execution_count": 110,
   "metadata": {},
   "outputs": [
    {
     "data": {
      "image/png": "[encoded data removed]",
      "text/plain": [
       "<Figure size 432x288 with 1 Axes>"
      ]
     },
     "metadata": {
      "needs_background": "light"
     },
     "output_type": "display_data"
    }
   ],
   "source": [
    "plt.semilogy(his_gd, err_gd, np.exp(-len(his)/0.5))\n",
    "plt.xlabel(\"Iteration\")\n",
    "plt.ylabel(\"Error\")\n",
    "plt.title(\"Gradient Descent\")\n",
    "plt.grid(True)\n",
    "plt.show()"
   ]
  },
  {
   "cell_type": "markdown",
   "metadata": {},
   "source": []
  },
  {
   "cell_type": "code",
   "execution_count": 111,
   "metadata": {},
   "outputs": [],
   "source": [
    "his_mt = list()\n",
    "err_mt = list()\n",
    "max_epoch = 500\n",
    "epoc = 0\n",
    "v1 = 0\n",
    "gamma = 0.9\n",
    "while epoc < max_epoch:\n",
    "    \n",
    "    outputs = np.dot(inputs , weights) + biases\n",
    "    deltas = outputs - targets#หา Error\n",
    "    #1000 x 1\n",
    "    #n x m\n",
    "\n",
    "    loss = np.sum(deltas **2) /2 /observation #MSE\n",
    "    #print(loss)\n",
    "    deltas_scaled = deltas / observation\n",
    "    #1000 x 1\n",
    "    \n",
    "    v1 = gamma * v1 + np.dot(inputs.T,deltas_scaled)\n",
    "    \n",
    "    weights = weights - learning_rate * v1 #update weights\n",
    "    biases = biases - learning_rate * np.sum(deltas_scaled)#update biases\n",
    "    his_mt.append(epoc)\n",
    "    err_mt.append(loss)\n",
    "    \n",
    "    epoc +=1"
   ]
  },
  {
   "cell_type": "markdown",
   "metadata": {},
   "source": [
    "# คำตอบที่ต้องการ 2, -3, 5"
   ]
  },
  {
   "cell_type": "code",
   "execution_count": 112,
   "metadata": {},
   "outputs": [
    {
     "name": "stdout",
     "output_type": "stream",
     "text": [
      "[[ 1.70762428]\n",
      " [-2.57596782]] \n",
      " [[0.02438691]]\n",
      "Min Loss 17.422568184185117\n"
     ]
    }
   ],
   "source": [
    "print(weights,'\\n', biases)\n",
    "print(\"Min Loss\", min(err_mt))"
   ]
  },
  {
   "cell_type": "code",
   "execution_count": 113,
   "metadata": {},
   "outputs": [
    {
     "data": {
      "image/png": "[encoded data removed]",
      "text/plain": [
       "<Figure size 432x288 with 1 Axes>"
      ]
     },
     "metadata": {
      "needs_background": "light"
     },
     "output_type": "display_data"
    }
   ],
   "source": [
    "plt.semilogy(his_mt, err_mt, np.exp(-len(his)/0.5))\n",
    "plt.xlabel(\"Iteration\")\n",
    "plt.ylabel(\"Error\")\n",
    "plt.title('Momentum')\n",
    "plt.grid(True)\n",
    "plt.show()"
   ]
  },
  {
   "cell_type": "markdown",
   "metadata": {},
   "source": [
    "# gradient descent vs Momentum"
   ]
  },
  {
   "cell_type": "code",
   "execution_count": 114,
   "metadata": {},
   "outputs": [
    {
     "data": {
      "image/png": "[encoded data removed]",
      "text/plain": [
       "<Figure size 432x288 with 1 Axes>"
      ]
     },
     "metadata": {
      "needs_background": "light"
     },
     "output_type": "display_data"
    }
   ],
   "source": [
    "plt.semilogy(his_mt, err_mt, np.exp(-len(his_mt)/0.5), c = 'blue', label = 'Momentum', marker=\"*\", linewidth=3)\n",
    "plt.semilogy(his_gd, err_gd, np.exp(-len(his_gd)/0.5), c = 'red', label = \"Gradient Descent\", marker=\"*\", linewidth=3)\n",
    "plt.xlabel(\"Iteration\")\n",
    "plt.ylabel(\"Error\")\n",
    "plt.title('Gradient Descent vs Momentom')\n",
    "plt.grid(True)\n",
    "plt.show()"
   ]
  },
  {
   "cell_type": "code",
   "execution_count": null,
   "metadata": {},
   "outputs": [],
   "source": []
  },
  {
   "cell_type": "code",
   "execution_count": null,
   "metadata": {},
   "outputs": [],
   "source": []
  }
 ],
 "metadata": {
  "kernelspec": {
   "display_name": "Python 3",
   "language": "python",
   "name": "python3"
  },
  "language_info": {
   "codemirror_mode": {
    "name": "ipython",
    "version": 3
   },
   "file_extension": ".py",
   "mimetype": "text/x-python",
   "name": "python",
   "nbconvert_exporter": "python",
   "pygments_lexer": "ipython3",
   "version": "3.8.5"
  }
 },
 "nbformat": 4,
 "nbformat_minor": 4
}
